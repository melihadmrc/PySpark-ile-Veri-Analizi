{
 "cells": [
  {
   "cell_type": "markdown",
   "id": "e8830e80",
   "metadata": {},
   "source": [
    "# HOUSİNG VERİ SETİNİN İNCELENMESİ"
   ]
  },
  {
   "cell_type": "code",
   "execution_count": 4,
   "id": "c53c2c52",
   "metadata": {},
   "outputs": [
    {
     "name": "stdout",
     "output_type": "stream",
     "text": [
      "Collecting pyspark\n",
      "  Downloading pyspark-3.5.1.tar.gz (317.0 MB)\n",
      "Collecting py4j==0.10.9.7\n",
      "  Downloading py4j-0.10.9.7-py2.py3-none-any.whl (200 kB)\n",
      "Building wheels for collected packages: pyspark\n",
      "  Building wheel for pyspark (setup.py): started\n",
      "  Building wheel for pyspark (setup.py): finished with status 'done'\n",
      "  Created wheel for pyspark: filename=pyspark-3.5.1-py2.py3-none-any.whl size=317488530 sha256=9765323e7c42f14aaee66818bb12ac4a4a118b2a2991172228bbdfdf0b07b89e\n",
      "  Stored in directory: c:\\users\\meliha\\appdata\\local\\pip\\cache\\wheels\\92\\09\\11\\aa01d01a7f005fda8a66ad71d2be7f8aa341bddafb27eee3c7\n",
      "Successfully built pyspark\n",
      "Installing collected packages: py4j, pyspark\n",
      "Successfully installed py4j-0.10.9.7 pyspark-3.5.1\n"
     ]
    }
   ],
   "source": [
    "!pip install pyspark\n"
   ]
  },
  {
   "cell_type": "code",
   "execution_count": 1,
   "id": "f9567aa0",
   "metadata": {},
   "outputs": [],
   "source": [
    "from pyspark import SparkContext\n",
    "from pyspark.sql import SQLContext\n",
    "import pandas as pd\n",
    "from pyspark.sql import SparkSession\n",
    "from pyspark.mllib import linalg\n",
    "from pyspark.ml.regression import LinearRegression\n",
    "from pyspark.ml.feature import VectorAssembler\n"
   ]
  },
  {
   "cell_type": "code",
   "execution_count": 2,
   "id": "b212c84f",
   "metadata": {},
   "outputs": [],
   "source": [
    "spark = SparkSession.builder \\\n",
    "    .appName(\"example-app\") \\\n",
    "    .getOrCreate()"
   ]
  },
  {
   "cell_type": "code",
   "execution_count": 3,
   "id": "e4e5396d",
   "metadata": {},
   "outputs": [
    {
     "name": "stdout",
     "output_type": "stream",
     "text": [
      "+---------+--------+------------------+-----------+--------------+----------+----------+-------------+------------------+---------------+\n",
      "|longitude|latitude|housing_median_age|total_rooms|total_bedrooms|population|households|median_income|median_house_value|ocean_proximity|\n",
      "+---------+--------+------------------+-----------+--------------+----------+----------+-------------+------------------+---------------+\n",
      "|  -122.23|   37.88|              41.0|      880.0|         129.0|     322.0|     126.0|       8.3252|          452600.0|       NEAR BAY|\n",
      "|  -122.22|   37.86|              21.0|     7099.0|        1106.0|    2401.0|    1138.0|       8.3014|          358500.0|       NEAR BAY|\n",
      "|  -122.24|   37.85|              52.0|     1467.0|         190.0|     496.0|     177.0|       7.2574|          352100.0|       NEAR BAY|\n",
      "|  -122.25|   37.85|              52.0|     1274.0|         235.0|     558.0|     219.0|       5.6431|          341300.0|       NEAR BAY|\n",
      "|  -122.25|   37.85|              52.0|     1627.0|         280.0|     565.0|     259.0|       3.8462|          342200.0|       NEAR BAY|\n",
      "|  -122.25|   37.85|              52.0|      919.0|         213.0|     413.0|     193.0|       4.0368|          269700.0|       NEAR BAY|\n",
      "|  -122.25|   37.84|              52.0|     2535.0|         489.0|    1094.0|     514.0|       3.6591|          299200.0|       NEAR BAY|\n",
      "|  -122.25|   37.84|              52.0|     3104.0|         687.0|    1157.0|     647.0|         3.12|          241400.0|       NEAR BAY|\n",
      "|  -122.26|   37.84|              42.0|     2555.0|         665.0|    1206.0|     595.0|       2.0804|          226700.0|       NEAR BAY|\n",
      "|  -122.25|   37.84|              52.0|     3549.0|         707.0|    1551.0|     714.0|       3.6912|          261100.0|       NEAR BAY|\n",
      "|  -122.26|   37.85|              52.0|     2202.0|         434.0|     910.0|     402.0|       3.2031|          281500.0|       NEAR BAY|\n",
      "|  -122.26|   37.85|              52.0|     3503.0|         752.0|    1504.0|     734.0|       3.2705|          241800.0|       NEAR BAY|\n",
      "|  -122.26|   37.85|              52.0|     2491.0|         474.0|    1098.0|     468.0|        3.075|          213500.0|       NEAR BAY|\n",
      "|  -122.26|   37.84|              52.0|      696.0|         191.0|     345.0|     174.0|       2.6736|          191300.0|       NEAR BAY|\n",
      "|  -122.26|   37.85|              52.0|     2643.0|         626.0|    1212.0|     620.0|       1.9167|          159200.0|       NEAR BAY|\n",
      "|  -122.26|   37.85|              50.0|     1120.0|         283.0|     697.0|     264.0|        2.125|          140000.0|       NEAR BAY|\n",
      "|  -122.27|   37.85|              52.0|     1966.0|         347.0|     793.0|     331.0|        2.775|          152500.0|       NEAR BAY|\n",
      "|  -122.27|   37.85|              52.0|     1228.0|         293.0|     648.0|     303.0|       2.1202|          155500.0|       NEAR BAY|\n",
      "|  -122.26|   37.84|              50.0|     2239.0|         455.0|     990.0|     419.0|       1.9911|          158700.0|       NEAR BAY|\n",
      "|  -122.27|   37.84|              52.0|     1503.0|         298.0|     690.0|     275.0|       2.6033|          162900.0|       NEAR BAY|\n",
      "+---------+--------+------------------+-----------+--------------+----------+----------+-------------+------------------+---------------+\n",
      "only showing top 20 rows\n",
      "\n"
     ]
    }
   ],
   "source": [
    "df=spark.read.csv(r\"C:\\Users\\meliha\\Spark_Veri_Analizi\\housing.csv\", inferSchema=True, header=True)\n",
    "df.show()\n",
    "#housing veri setindeki ilk 20 satır gözlemlenir. "
   ]
  },
  {
   "cell_type": "code",
   "execution_count": 4,
   "id": "678f31d2",
   "metadata": {},
   "outputs": [
    {
     "data": {
      "text/plain": [
       "['longitude',\n",
       " 'latitude',\n",
       " 'housing_median_age',\n",
       " 'total_rooms',\n",
       " 'total_bedrooms',\n",
       " 'population',\n",
       " 'households',\n",
       " 'median_income',\n",
       " 'median_house_value',\n",
       " 'ocean_proximity']"
      ]
     },
     "execution_count": 4,
     "metadata": {},
     "output_type": "execute_result"
    }
   ],
   "source": [
    "df.columns\n",
    "#sütunlar incleendi"
   ]
  },
  {
   "cell_type": "code",
   "execution_count": 5,
   "id": "d2310273",
   "metadata": {},
   "outputs": [
    {
     "name": "stdout",
     "output_type": "stream",
     "text": [
      "root\n",
      " |-- longitude: double (nullable = true)\n",
      " |-- latitude: double (nullable = true)\n",
      " |-- housing_median_age: double (nullable = true)\n",
      " |-- total_rooms: double (nullable = true)\n",
      " |-- total_bedrooms: double (nullable = true)\n",
      " |-- population: double (nullable = true)\n",
      " |-- households: double (nullable = true)\n",
      " |-- median_income: double (nullable = true)\n",
      " |-- median_house_value: double (nullable = true)\n",
      " |-- ocean_proximity: string (nullable = true)\n",
      "\n"
     ]
    }
   ],
   "source": [
    "df.printSchema()\n",
    "#veri setinin ağaç yapısı oluşturuldu. ocean_proximity string değer alırken diğer bütün değişkenler double değer almaktadır."
   ]
  },
  {
   "cell_type": "code",
   "execution_count": 6,
   "id": "d6a64333",
   "metadata": {},
   "outputs": [
    {
     "name": "stdout",
     "output_type": "stream",
     "text": [
      "+-------+-------------------+-----------------+------------------+------------------+------------------+------------------+-----------------+------------------+------------------+---------------+\n",
      "|summary|          longitude|         latitude|housing_median_age|       total_rooms|    total_bedrooms|        population|       households|     median_income|median_house_value|ocean_proximity|\n",
      "+-------+-------------------+-----------------+------------------+------------------+------------------+------------------+-----------------+------------------+------------------+---------------+\n",
      "|  count|              20640|            20640|             20640|             20640|             20433|             20640|            20640|             20640|             20640|          20640|\n",
      "|   mean|-119.56970445736148| 35.6318614341087|28.639486434108527|2635.7630813953488| 537.8705525375618|1425.4767441860465|499.5396802325581|3.8706710029070246|206855.81690891474|           NULL|\n",
      "| stddev|  2.003531723502584|2.135952397457101| 12.58555761211163|2181.6152515827944|421.38507007403115|  1132.46212176534|382.3297528316098| 1.899821717945263|115395.61587441359|           NULL|\n",
      "|    min|            -124.35|            32.54|               1.0|               2.0|               1.0|               3.0|              1.0|            0.4999|           14999.0|      <1H OCEAN|\n",
      "|    max|            -114.31|            41.95|              52.0|           39320.0|            6445.0|           35682.0|           6082.0|           15.0001|          500001.0|     NEAR OCEAN|\n",
      "+-------+-------------------+-----------------+------------------+------------------+------------------+------------------+-----------------+------------------+------------------+---------------+\n",
      "\n"
     ]
    }
   ],
   "source": [
    "df.describe().show()\n",
    "#veri setinin ortalama, max, std, min değerleri incelendi. temiz bir görünüm elde edilemediğinden dolayı \n",
    "#bir alt kodda her bir featura ait değerler gözlemlendi"
   ]
  },
  {
   "cell_type": "code",
   "execution_count": 7,
   "id": "052a773b",
   "metadata": {},
   "outputs": [
    {
     "name": "stdout",
     "output_type": "stream",
     "text": [
      "+-------+-------------------+\n",
      "|summary|          longitude|\n",
      "+-------+-------------------+\n",
      "|  count|              20640|\n",
      "|   mean|-119.56970445736148|\n",
      "| stddev|  2.003531723502584|\n",
      "|    min|            -124.35|\n",
      "|    max|            -114.31|\n",
      "+-------+-------------------+\n",
      "\n",
      "+-------+-----------------+\n",
      "|summary|         latitude|\n",
      "+-------+-----------------+\n",
      "|  count|            20640|\n",
      "|   mean| 35.6318614341087|\n",
      "| stddev|2.135952397457101|\n",
      "|    min|            32.54|\n",
      "|    max|            41.95|\n",
      "+-------+-----------------+\n",
      "\n",
      "+-------+------------------+\n",
      "|summary|housing_median_age|\n",
      "+-------+------------------+\n",
      "|  count|             20640|\n",
      "|   mean|28.639486434108527|\n",
      "| stddev| 12.58555761211163|\n",
      "|    min|               1.0|\n",
      "|    max|              52.0|\n",
      "+-------+------------------+\n",
      "\n",
      "+-------+------------------+\n",
      "|summary|       total_rooms|\n",
      "+-------+------------------+\n",
      "|  count|             20640|\n",
      "|   mean|2635.7630813953488|\n",
      "| stddev|2181.6152515827944|\n",
      "|    min|               2.0|\n",
      "|    max|           39320.0|\n",
      "+-------+------------------+\n",
      "\n",
      "+-------+------------------+\n",
      "|summary|    total_bedrooms|\n",
      "+-------+------------------+\n",
      "|  count|             20433|\n",
      "|   mean| 537.8705525375618|\n",
      "| stddev|421.38507007403115|\n",
      "|    min|               1.0|\n",
      "|    max|            6445.0|\n",
      "+-------+------------------+\n",
      "\n",
      "+-------+------------------+\n",
      "|summary|        population|\n",
      "+-------+------------------+\n",
      "|  count|             20640|\n",
      "|   mean|1425.4767441860465|\n",
      "| stddev|  1132.46212176534|\n",
      "|    min|               3.0|\n",
      "|    max|           35682.0|\n",
      "+-------+------------------+\n",
      "\n",
      "+-------+-----------------+\n",
      "|summary|       households|\n",
      "+-------+-----------------+\n",
      "|  count|            20640|\n",
      "|   mean|499.5396802325581|\n",
      "| stddev|382.3297528316098|\n",
      "|    min|              1.0|\n",
      "|    max|           6082.0|\n",
      "+-------+-----------------+\n",
      "\n",
      "+-------+------------------+\n",
      "|summary|     median_income|\n",
      "+-------+------------------+\n",
      "|  count|             20640|\n",
      "|   mean|3.8706710029070246|\n",
      "| stddev| 1.899821717945263|\n",
      "|    min|            0.4999|\n",
      "|    max|           15.0001|\n",
      "+-------+------------------+\n",
      "\n",
      "+-------+------------------+\n",
      "|summary|median_house_value|\n",
      "+-------+------------------+\n",
      "|  count|             20640|\n",
      "|   mean|206855.81690891474|\n",
      "| stddev|115395.61587441359|\n",
      "|    min|           14999.0|\n",
      "|    max|          500001.0|\n",
      "+-------+------------------+\n",
      "\n",
      "+-------+---------------+\n",
      "|summary|ocean_proximity|\n",
      "+-------+---------------+\n",
      "|  count|          20640|\n",
      "|   mean|           NULL|\n",
      "| stddev|           NULL|\n",
      "|    min|      <1H OCEAN|\n",
      "|    max|     NEAR OCEAN|\n",
      "+-------+---------------+\n",
      "\n"
     ]
    }
   ],
   "source": [
    "for i in df.columns:\n",
    "    df.describe(i).show()\n",
    "#her ir sütunun özeti çıkarıldı mean değerleine bakıldı\n",
    "#mean değerleri incelendiğinde birbirleri arasındaki orantısızlık göz önüne çıkmaktadır\n",
    "#normalizasyon işlemi gerekmektedir."
   ]
  },
  {
   "cell_type": "code",
   "execution_count": 8,
   "id": "217775a4",
   "metadata": {},
   "outputs": [
    {
     "data": {
      "text/plain": [
       "5"
      ]
     },
     "execution_count": 8,
     "metadata": {},
     "output_type": "execute_result"
    }
   ],
   "source": [
    "df.select('ocean_proximity').distinct().count()\n",
    "#ocean_proximity string değer aldğından kaç tane unique değer aldığı gözlemlendi"
   ]
  },
  {
   "cell_type": "code",
   "execution_count": 9,
   "id": "31c72c2e",
   "metadata": {},
   "outputs": [
    {
     "data": {
      "text/plain": [
       "[Row(ocean_proximity='ISLAND'),\n",
       " Row(ocean_proximity='NEAR OCEAN'),\n",
       " Row(ocean_proximity='NEAR BAY'),\n",
       " Row(ocean_proximity='<1H OCEAN'),\n",
       " Row(ocean_proximity='INLAND')]"
      ]
     },
     "execution_count": 9,
     "metadata": {},
     "output_type": "execute_result"
    }
   ],
   "source": [
    "df.select('ocean_proximity').distinct().collect()\n",
    "#kategorik değişken olan ocean_proximity için 5  farklı değer gözlemlenildi"
   ]
  },
  {
   "cell_type": "code",
   "execution_count": 10,
   "id": "95b590c5",
   "metadata": {},
   "outputs": [],
   "source": [
    "liste= ['longitude',\n",
    " 'latitude',\n",
    " 'housing_median_age',\n",
    " 'total_rooms',\n",
    " 'total_bedrooms',\n",
    " 'population',\n",
    " 'households',\n",
    " 'median_income',\n",
    " 'median_house_value',\n",
    " 'ocean_proximity']\n",
    "#veri setine ait columnlar bir listede tutuldu."
   ]
  },
  {
   "cell_type": "code",
   "execution_count": 11,
   "id": "4a24be16",
   "metadata": {},
   "outputs": [
    {
     "name": "stdout",
     "output_type": "stream",
     "text": [
      "Column<'longitude'> sütunu null deger icermiyor\n",
      "Column<'latitude'> sütunu null deger icermiyor\n",
      "Column<'housing_median_age'> sütunu null deger icermiyor\n",
      "Column<'total_rooms'> sütunu null deger icermiyor\n",
      "Column<'total_bedrooms'> sütunu 207 tane null deger iceriyor\n",
      "Column<'population'> sütunu null deger icermiyor\n",
      "Column<'households'> sütunu null deger icermiyor\n",
      "Column<'median_income'> sütunu null deger icermiyor\n",
      "Column<'median_house_value'> sütunu null deger icermiyor\n",
      "Column<'ocean_proximity'> sütunu null deger icermiyor\n"
     ]
    }
   ],
   "source": [
    "for column_name in liste:\n",
    "    null_count = df.where(df[column_name].isNull()).count()\n",
    "    if null_count > 0:\n",
    "        print(\"{} sütunu {} tane null deger iceriyor\".format(df[column_name], null_count))\n",
    "    else:\n",
    "        print(\"{} sütunu null deger icermiyor\".format(df[column_name]))\n",
    "#her bir featurdaki toplam null değerlrele bakıldı"
   ]
  },
  {
   "cell_type": "code",
   "execution_count": 12,
   "id": "804186ed",
   "metadata": {},
   "outputs": [
    {
     "data": {
      "text/plain": [
       "0"
      ]
     },
     "execution_count": 12,
     "metadata": {},
     "output_type": "execute_result"
    }
   ],
   "source": [
    "my_df=df.dropDuplicates()\n",
    "duplicate_rows = df.count() - my_df.count()\n",
    "duplicate_rows\n",
    "#tekrarlanan satır, veri varsa silindi"
   ]
  },
  {
   "cell_type": "code",
   "execution_count": 13,
   "id": "ebb98c16",
   "metadata": {},
   "outputs": [
    {
     "name": "stdout",
     "output_type": "stream",
     "text": [
      "+---------+--------+------------------+-----------+--------------+----------+----------+-------------+------------------+---------------+----------------------+---------------------+-------------+\n",
      "|longitude|latitude|housing_median_age|total_rooms|total_bedrooms|population|households|median_income|median_house_value|ocean_proximity|imputed_total_bedrooms|ocean_proximity_index|        ocean|\n",
      "+---------+--------+------------------+-----------+--------------+----------+----------+-------------+------------------+---------------+----------------------+---------------------+-------------+\n",
      "|  -122.23|   37.88|              41.0|      880.0|         129.0|     322.0|     126.0|       8.3252|          452600.0|       NEAR BAY|                 129.0|                  3.0|(5,[3],[1.0])|\n",
      "|  -122.22|   37.86|              21.0|     7099.0|        1106.0|    2401.0|    1138.0|       8.3014|          358500.0|       NEAR BAY|                1106.0|                  3.0|(5,[3],[1.0])|\n",
      "|  -122.24|   37.85|              52.0|     1467.0|         190.0|     496.0|     177.0|       7.2574|          352100.0|       NEAR BAY|                 190.0|                  3.0|(5,[3],[1.0])|\n",
      "|  -122.25|   37.85|              52.0|     1274.0|         235.0|     558.0|     219.0|       5.6431|          341300.0|       NEAR BAY|                 235.0|                  3.0|(5,[3],[1.0])|\n",
      "|  -122.25|   37.85|              52.0|     1627.0|         280.0|     565.0|     259.0|       3.8462|          342200.0|       NEAR BAY|                 280.0|                  3.0|(5,[3],[1.0])|\n",
      "|  -122.25|   37.85|              52.0|      919.0|         213.0|     413.0|     193.0|       4.0368|          269700.0|       NEAR BAY|                 213.0|                  3.0|(5,[3],[1.0])|\n",
      "|  -122.25|   37.84|              52.0|     2535.0|         489.0|    1094.0|     514.0|       3.6591|          299200.0|       NEAR BAY|                 489.0|                  3.0|(5,[3],[1.0])|\n",
      "|  -122.25|   37.84|              52.0|     3104.0|         687.0|    1157.0|     647.0|         3.12|          241400.0|       NEAR BAY|                 687.0|                  3.0|(5,[3],[1.0])|\n",
      "|  -122.26|   37.84|              42.0|     2555.0|         665.0|    1206.0|     595.0|       2.0804|          226700.0|       NEAR BAY|                 665.0|                  3.0|(5,[3],[1.0])|\n",
      "|  -122.25|   37.84|              52.0|     3549.0|         707.0|    1551.0|     714.0|       3.6912|          261100.0|       NEAR BAY|                 707.0|                  3.0|(5,[3],[1.0])|\n",
      "|  -122.26|   37.85|              52.0|     2202.0|         434.0|     910.0|     402.0|       3.2031|          281500.0|       NEAR BAY|                 434.0|                  3.0|(5,[3],[1.0])|\n",
      "|  -122.26|   37.85|              52.0|     3503.0|         752.0|    1504.0|     734.0|       3.2705|          241800.0|       NEAR BAY|                 752.0|                  3.0|(5,[3],[1.0])|\n",
      "|  -122.26|   37.85|              52.0|     2491.0|         474.0|    1098.0|     468.0|        3.075|          213500.0|       NEAR BAY|                 474.0|                  3.0|(5,[3],[1.0])|\n",
      "|  -122.26|   37.84|              52.0|      696.0|         191.0|     345.0|     174.0|       2.6736|          191300.0|       NEAR BAY|                 191.0|                  3.0|(5,[3],[1.0])|\n",
      "|  -122.26|   37.85|              52.0|     2643.0|         626.0|    1212.0|     620.0|       1.9167|          159200.0|       NEAR BAY|                 626.0|                  3.0|(5,[3],[1.0])|\n",
      "|  -122.26|   37.85|              50.0|     1120.0|         283.0|     697.0|     264.0|        2.125|          140000.0|       NEAR BAY|                 283.0|                  3.0|(5,[3],[1.0])|\n",
      "|  -122.27|   37.85|              52.0|     1966.0|         347.0|     793.0|     331.0|        2.775|          152500.0|       NEAR BAY|                 347.0|                  3.0|(5,[3],[1.0])|\n",
      "|  -122.27|   37.85|              52.0|     1228.0|         293.0|     648.0|     303.0|       2.1202|          155500.0|       NEAR BAY|                 293.0|                  3.0|(5,[3],[1.0])|\n",
      "|  -122.26|   37.84|              50.0|     2239.0|         455.0|     990.0|     419.0|       1.9911|          158700.0|       NEAR BAY|                 455.0|                  3.0|(5,[3],[1.0])|\n",
      "|  -122.27|   37.84|              52.0|     1503.0|         298.0|     690.0|     275.0|       2.6033|          162900.0|       NEAR BAY|                 298.0|                  3.0|(5,[3],[1.0])|\n",
      "+---------+--------+------------------+-----------+--------------+----------+----------+-------------+------------------+---------------+----------------------+---------------------+-------------+\n",
      "only showing top 20 rows\n",
      "\n"
     ]
    }
   ],
   "source": [
    "from pyspark.ml.feature import Imputer\n",
    "from pyspark.ml.feature import IndexToString , StringIndexer ,VectorIndexer, OneHotEncoder\n",
    "from pyspark.ml import Pipeline\n",
    "\n",
    "imputer = Imputer(inputCols=[\"total_bedrooms\"], outputCols=[\"imputed_total_bedrooms\"]).setStrategy(\"mean\")\n",
    "stringIndexer = StringIndexer(inputCol=\"ocean_proximity\", outputCol=\"ocean_proximity_index\")\n",
    "encoder = OneHotEncoder(inputCol=\"ocean_proximity_index\", outputCol=\"ocean\", dropLast=False)\n",
    "\n",
    "pipeline = Pipeline(stages=[imputer, stringIndexer, encoder])\n",
    "model = pipeline.fit(df)\n",
    "transformed_df = model.transform(df)\n",
    "\n",
    "transformed_df.show()\n",
    "#pipe line oluşturularak boş olan sütundaki değerler mean ile dolduurldu ve string olan değişken için\n",
    "#one hot encoder işlemi yapıldı. ocean_proximity deki near bay değişkeni\n",
    "#bu sütunda 3. indekste bulunduğundan indeksi 3.0 dır. ocean_proximity değişkenin vektör uzayı alınarak sütun olarak eklendi"
   ]
  },
  {
   "cell_type": "code",
   "execution_count": 14,
   "id": "fa4f8349",
   "metadata": {},
   "outputs": [
    {
     "name": "stdout",
     "output_type": "stream",
     "text": [
      "+---------+--------+------------------+-----------+----------+----------+-------------+------------------+----------------------+---------------------+-------------+\n",
      "|longitude|latitude|housing_median_age|total_rooms|population|households|median_income|median_house_value|imputed_total_bedrooms|ocean_proximity_index|        ocean|\n",
      "+---------+--------+------------------+-----------+----------+----------+-------------+------------------+----------------------+---------------------+-------------+\n",
      "|  -122.23|   37.88|              41.0|      880.0|     322.0|     126.0|       8.3252|          452600.0|                 129.0|                  3.0|(5,[3],[1.0])|\n",
      "|  -122.22|   37.86|              21.0|     7099.0|    2401.0|    1138.0|       8.3014|          358500.0|                1106.0|                  3.0|(5,[3],[1.0])|\n",
      "|  -122.24|   37.85|              52.0|     1467.0|     496.0|     177.0|       7.2574|          352100.0|                 190.0|                  3.0|(5,[3],[1.0])|\n",
      "|  -122.25|   37.85|              52.0|     1274.0|     558.0|     219.0|       5.6431|          341300.0|                 235.0|                  3.0|(5,[3],[1.0])|\n",
      "|  -122.25|   37.85|              52.0|     1627.0|     565.0|     259.0|       3.8462|          342200.0|                 280.0|                  3.0|(5,[3],[1.0])|\n",
      "|  -122.25|   37.85|              52.0|      919.0|     413.0|     193.0|       4.0368|          269700.0|                 213.0|                  3.0|(5,[3],[1.0])|\n",
      "|  -122.25|   37.84|              52.0|     2535.0|    1094.0|     514.0|       3.6591|          299200.0|                 489.0|                  3.0|(5,[3],[1.0])|\n",
      "|  -122.25|   37.84|              52.0|     3104.0|    1157.0|     647.0|         3.12|          241400.0|                 687.0|                  3.0|(5,[3],[1.0])|\n",
      "|  -122.26|   37.84|              42.0|     2555.0|    1206.0|     595.0|       2.0804|          226700.0|                 665.0|                  3.0|(5,[3],[1.0])|\n",
      "|  -122.25|   37.84|              52.0|     3549.0|    1551.0|     714.0|       3.6912|          261100.0|                 707.0|                  3.0|(5,[3],[1.0])|\n",
      "|  -122.26|   37.85|              52.0|     2202.0|     910.0|     402.0|       3.2031|          281500.0|                 434.0|                  3.0|(5,[3],[1.0])|\n",
      "|  -122.26|   37.85|              52.0|     3503.0|    1504.0|     734.0|       3.2705|          241800.0|                 752.0|                  3.0|(5,[3],[1.0])|\n",
      "|  -122.26|   37.85|              52.0|     2491.0|    1098.0|     468.0|        3.075|          213500.0|                 474.0|                  3.0|(5,[3],[1.0])|\n",
      "|  -122.26|   37.84|              52.0|      696.0|     345.0|     174.0|       2.6736|          191300.0|                 191.0|                  3.0|(5,[3],[1.0])|\n",
      "|  -122.26|   37.85|              52.0|     2643.0|    1212.0|     620.0|       1.9167|          159200.0|                 626.0|                  3.0|(5,[3],[1.0])|\n",
      "|  -122.26|   37.85|              50.0|     1120.0|     697.0|     264.0|        2.125|          140000.0|                 283.0|                  3.0|(5,[3],[1.0])|\n",
      "|  -122.27|   37.85|              52.0|     1966.0|     793.0|     331.0|        2.775|          152500.0|                 347.0|                  3.0|(5,[3],[1.0])|\n",
      "|  -122.27|   37.85|              52.0|     1228.0|     648.0|     303.0|       2.1202|          155500.0|                 293.0|                  3.0|(5,[3],[1.0])|\n",
      "|  -122.26|   37.84|              50.0|     2239.0|     990.0|     419.0|       1.9911|          158700.0|                 455.0|                  3.0|(5,[3],[1.0])|\n",
      "|  -122.27|   37.84|              52.0|     1503.0|     690.0|     275.0|       2.6033|          162900.0|                 298.0|                  3.0|(5,[3],[1.0])|\n",
      "+---------+--------+------------------+-----------+----------+----------+-------------+------------------+----------------------+---------------------+-------------+\n",
      "only showing top 20 rows\n",
      "\n"
     ]
    }
   ],
   "source": [
    "transformed_df=transformed_df.drop(\"total_bedrooms\")\n",
    "transformed_df=transformed_df.drop(\"ocean_proximity\")\n",
    "transformed_df.show()\n",
    "#bu iki değer silindi, kategorik dğeşken silindi, içinde boş değer barındıran total_bedrooms değeri \n",
    "#silindi. ocean_proximity deki stirng değerler sonradan eklenen ocean_proximity_index sütununda index değeri verildiğinden\n",
    "#silindi."
   ]
  },
  {
   "cell_type": "code",
   "execution_count": 15,
   "id": "e80eb87e",
   "metadata": {},
   "outputs": [
    {
     "name": "stdout",
     "output_type": "stream",
     "text": [
      "+-------+-------------------+\n",
      "|summary|          longitude|\n",
      "+-------+-------------------+\n",
      "|  count|              20640|\n",
      "|   mean|-119.56970445736148|\n",
      "| stddev|  2.003531723502584|\n",
      "|    min|            -124.35|\n",
      "|    max|            -114.31|\n",
      "+-------+-------------------+\n",
      "\n",
      "+-------+-----------------+\n",
      "|summary|         latitude|\n",
      "+-------+-----------------+\n",
      "|  count|            20640|\n",
      "|   mean| 35.6318614341087|\n",
      "| stddev|2.135952397457101|\n",
      "|    min|            32.54|\n",
      "|    max|            41.95|\n",
      "+-------+-----------------+\n",
      "\n",
      "+-------+------------------+\n",
      "|summary|housing_median_age|\n",
      "+-------+------------------+\n",
      "|  count|             20640|\n",
      "|   mean|28.639486434108527|\n",
      "| stddev| 12.58555761211163|\n",
      "|    min|               1.0|\n",
      "|    max|              52.0|\n",
      "+-------+------------------+\n",
      "\n",
      "+-------+------------------+\n",
      "|summary|       total_rooms|\n",
      "+-------+------------------+\n",
      "|  count|             20640|\n",
      "|   mean|2635.7630813953488|\n",
      "| stddev|2181.6152515827944|\n",
      "|    min|               2.0|\n",
      "|    max|           39320.0|\n",
      "+-------+------------------+\n",
      "\n",
      "+-------+------------------+\n",
      "|summary|        population|\n",
      "+-------+------------------+\n",
      "|  count|             20640|\n",
      "|   mean|1425.4767441860465|\n",
      "| stddev|  1132.46212176534|\n",
      "|    min|               3.0|\n",
      "|    max|           35682.0|\n",
      "+-------+------------------+\n",
      "\n",
      "+-------+-----------------+\n",
      "|summary|       households|\n",
      "+-------+-----------------+\n",
      "|  count|            20640|\n",
      "|   mean|499.5396802325581|\n",
      "| stddev|382.3297528316098|\n",
      "|    min|              1.0|\n",
      "|    max|           6082.0|\n",
      "+-------+-----------------+\n",
      "\n",
      "+-------+------------------+\n",
      "|summary|     median_income|\n",
      "+-------+------------------+\n",
      "|  count|             20640|\n",
      "|   mean|3.8706710029070246|\n",
      "| stddev| 1.899821717945263|\n",
      "|    min|            0.4999|\n",
      "|    max|           15.0001|\n",
      "+-------+------------------+\n",
      "\n",
      "+-------+------------------+\n",
      "|summary|median_house_value|\n",
      "+-------+------------------+\n",
      "|  count|             20640|\n",
      "|   mean|206855.81690891474|\n",
      "| stddev|115395.61587441359|\n",
      "|    min|           14999.0|\n",
      "|    max|          500001.0|\n",
      "+-------+------------------+\n",
      "\n",
      "+-------+----------------------+\n",
      "|summary|imputed_total_bedrooms|\n",
      "+-------+----------------------+\n",
      "|  count|                 20640|\n",
      "|   mean|     537.8705525375639|\n",
      "| stddev|    419.26659232552385|\n",
      "|    min|                   1.0|\n",
      "|    max|                6445.0|\n",
      "+-------+----------------------+\n",
      "\n",
      "+-------+---------------------+\n",
      "|summary|ocean_proximity_index|\n",
      "+-------+---------------------+\n",
      "|  count|                20640|\n",
      "|   mean|   0.9087693798449612|\n",
      "| stddev|   1.0045492900981234|\n",
      "|    min|                  0.0|\n",
      "|    max|                  4.0|\n",
      "+-------+---------------------+\n",
      "\n",
      "+-------+\n",
      "|summary|\n",
      "+-------+\n",
      "|  count|\n",
      "|   mean|\n",
      "| stddev|\n",
      "|    min|\n",
      "|    max|\n",
      "+-------+\n",
      "\n"
     ]
    }
   ],
   "source": [
    "for i in transformed_df.columns:\n",
    "    transformed_df.describe(i).show()\n",
    "    #veri setindeki null değerler doldurulduktan sonra std, min, max vb. değerler tekrardan incelendi."
   ]
  },
  {
   "cell_type": "code",
   "execution_count": 16,
   "id": "af7bf923",
   "metadata": {},
   "outputs": [],
   "source": [
    "liste2=['longitude',\n",
    " 'latitude',\n",
    " 'housing_median_age',\n",
    " 'total_rooms',\n",
    " 'population',\n",
    " 'households',\n",
    " 'median_income',\n",
    " 'median_house_value',\n",
    " 'imputed_total_bedrooms',\n",
    " 'ocean_proximity_index',\n",
    " 'ocean']\n",
    "#verideki feauture lar bir listede tutuldu."
   ]
  },
  {
   "cell_type": "code",
   "execution_count": 17,
   "id": "70af65b9",
   "metadata": {},
   "outputs": [
    {
     "name": "stdout",
     "output_type": "stream",
     "text": [
      "+---------+--------+------------------+-----------+----------+----------+-------------+------------------+----------------------+---------------------+-------------+--------------------+--------------------+\n",
      "|longitude|latitude|housing_median_age|total_rooms|population|households|median_income|median_house_value|imputed_total_bedrooms|ocean_proximity_index|        ocean|            features|                Norm|\n",
      "+---------+--------+------------------+-----------+----------+----------+-------------+------------------+----------------------+---------------------+-------------+--------------------+--------------------+\n",
      "|  -122.23|   37.88|              41.0|      880.0|     322.0|     126.0|       8.3252|          452600.0|                 129.0|                  3.0|(5,[3],[1.0])|[-122.23,37.88,41...|[-2.6906879807440...|\n",
      "|  -122.22|   37.86|              21.0|     7099.0|    2401.0|    1138.0|       8.3014|          358500.0|                1106.0|                  3.0|(5,[3],[1.0])|[-122.22,37.86,21...|[-3.2993430505877...|\n",
      "|  -122.24|   37.85|              52.0|     1467.0|     496.0|     177.0|       7.2574|          352100.0|                 190.0|                  3.0|(5,[3],[1.0])|[-122.24,37.85,52...|[-3.4467459815663...|\n",
      "|  -122.25|   37.85|              52.0|     1274.0|     558.0|     219.0|       5.6431|          341300.0|                 235.0|                  3.0|(5,[3],[1.0])|[-122.25,37.85,52...|[-3.5557663389926...|\n",
      "|  -122.25|   37.85|              52.0|     1627.0|     565.0|     259.0|       3.8462|          342200.0|                 280.0|                  3.0|(5,[3],[1.0])|[-122.25,37.85,52...|[-3.5419285777985...|\n",
      "|  -122.25|   37.85|              52.0|      919.0|     413.0|     193.0|       4.0368|          269700.0|                 213.0|                  3.0|(5,[3],[1.0])|[-122.25,37.85,52...|[-4.5001412967064...|\n",
      "|  -122.25|   37.84|              52.0|     2535.0|    1094.0|     514.0|       3.6591|          299200.0|                 489.0|                  3.0|(5,[3],[1.0])|[-122.25,37.84,52...|[-4.0206971465174...|\n",
      "|  -122.25|   37.84|              52.0|     3104.0|    1157.0|     647.0|         3.12|          241400.0|                 687.0|                  3.0|(5,[3],[1.0])|[-122.25,37.84,52...|[-4.9451040860474...|\n",
      "|  -122.26|   37.84|              42.0|     2555.0|    1206.0|     595.0|       2.0804|          226700.0|                 665.0|                  3.0|(5,[3],[1.0])|[-122.26,37.84,42...|[-5.2714367286230...|\n",
      "|  -122.25|   37.84|              52.0|     3549.0|    1551.0|     714.0|       3.6912|          261100.0|                 707.0|                  3.0|(5,[3],[1.0])|[-122.25,37.84,52...|[-4.5642788022155...|\n",
      "|  -122.26|   37.85|              52.0|     2202.0|     910.0|     402.0|       3.2031|          281500.0|                 434.0|                  3.0|(5,[3],[1.0])|[-122.26,37.85,52...|[-4.2798036174758...|\n",
      "|  -122.26|   37.85|              52.0|     3503.0|    1504.0|     734.0|       3.2705|          241800.0|                 752.0|                  3.0|(5,[3],[1.0])|[-122.26,37.85,52...|[-4.9196744143698...|\n",
      "|  -122.26|   37.85|              52.0|     2491.0|    1098.0|     468.0|        3.075|          213500.0|                 474.0|                  3.0|(5,[3],[1.0])|[-122.26,37.85,52...|[-5.6018280121961...|\n",
      "|  -122.26|   37.84|              52.0|      696.0|     345.0|     174.0|       2.6736|          191300.0|                 191.0|                  3.0|(5,[3],[1.0])|[-122.26,37.84,52...|[-6.3371850964815...|\n",
      "|  -122.26|   37.85|              52.0|     2643.0|    1212.0|     620.0|       1.9167|          159200.0|                 626.0|                  3.0|(5,[3],[1.0])|[-122.26,37.85,52...|[-7.4313593055070...|\n",
      "|  -122.26|   37.85|              50.0|     1120.0|     697.0|     264.0|        2.125|          140000.0|                 283.0|                  3.0|(5,[3],[1.0])|[-122.26,37.85,50...|[-8.5748210472510...|\n",
      "|  -122.27|   37.85|              52.0|     1966.0|     793.0|     331.0|        2.775|          152500.0|                 347.0|                  3.0|(5,[3],[1.0])|[-122.27,37.85,52...|[-7.8299957872227...|\n",
      "|  -122.27|   37.85|              52.0|     1228.0|     648.0|     303.0|       2.1202|          155500.0|                 293.0|                  3.0|(5,[3],[1.0])|[-122.27,37.85,52...|[-7.729301115253E...|\n",
      "|  -122.26|   37.84|              50.0|     2239.0|     990.0|     419.0|       1.9911|          158700.0|                 455.0|                  3.0|(5,[3],[1.0])|[-122.26,37.84,50...|[-7.4997351031114...|\n",
      "|  -122.27|   37.84|              52.0|     1503.0|     690.0|     275.0|       2.6033|          162900.0|                 298.0|                  3.0|(5,[3],[1.0])|[-122.27,37.84,52...|[-7.3707816451342...|\n",
      "+---------+--------+------------------+-----------+----------+----------+-------------+------------------+----------------------+---------------------+-------------+--------------------+--------------------+\n",
      "only showing top 20 rows\n",
      "\n"
     ]
    }
   ],
   "source": [
    "from pyspark.ml.feature import VectorAssembler, Normalizer\n",
    "\n",
    "assembler = VectorAssembler(inputCols=liste2, outputCol=\"features\")\n",
    "\n",
    "assembler_output = assembler.transform(transformed_df)\n",
    "#vektörize yapıldıktan sonra normalize işlemi yapıldı\n",
    "\n",
    "normalizer = Normalizer(inputCol=\"features\", outputCol=\"Norm\", p=1.0)\n",
    "\n",
    "l1NormData = normalizer.transform(assembler_output)\n",
    "\n",
    "l1NormData.show()\n",
    "##normalizasyon işkemi uygulandı"
   ]
  },
  {
   "cell_type": "code",
   "execution_count": 18,
   "id": "754c1ad3",
   "metadata": {},
   "outputs": [
    {
     "data": {
      "text/plain": [
       "['longitude',\n",
       " 'latitude',\n",
       " 'housing_median_age',\n",
       " 'total_rooms',\n",
       " 'population',\n",
       " 'households',\n",
       " 'median_income',\n",
       " 'median_house_value',\n",
       " 'imputed_total_bedrooms',\n",
       " 'ocean_proximity_index',\n",
       " 'ocean',\n",
       " 'features',\n",
       " 'Norm']"
      ]
     },
     "execution_count": 18,
     "metadata": {},
     "output_type": "execute_result"
    }
   ],
   "source": [
    "l1NormData.columns\n",
    "#normalize edilmiş olan sütunlarun vektör uzayı sütun eklenerek yukarıda gösterildi"
   ]
  },
  {
   "cell_type": "code",
   "execution_count": 30,
   "id": "ae661919",
   "metadata": {},
   "outputs": [
    {
     "name": "stdout",
     "output_type": "stream",
     "text": [
      "Root Mean Squared Error (RMSE) on test data: 0.245\n"
     ]
    }
   ],
   "source": [
    "from pyspark.ml.regression import LinearRegression\n",
    "from pyspark.ml.evaluation import RegressionEvaluator\n",
    "\n",
    "assembler = VectorAssembler(inputCols=['longitude',\n",
    " 'latitude',\n",
    " 'housing_median_age',\n",
    " 'total_rooms',\n",
    " 'population',\n",
    " 'households',\n",
    " 'median_income',\n",
    " 'imputed_total_bedrooms',\n",
    " 'ocean_proximity_index',\n",
    " 'ocean', 'features',\n",
    " 'Norm'], outputCol='features')\n",
    "\n",
    "train_data, test_data = l1NormData.randomSplit([0.7, 0.3], seed=42)\n",
    "\n",
    "lr = LinearRegression(featuresCol=\"features\", labelCol=\"median_house_value\")\n",
    "model = lr.fit(train_data.select('features', 'median_house_value'))\n",
    "predictions = model.transform(test_data)\n",
    "\n",
    "evaluator = RegressionEvaluator(labelCol=\"median_house_value\", predictionCol=\"prediction\", metricName=\"rmse\")\n",
    "rmse = evaluator.evaluate(predictions)\n",
    "print(\"Root Mean Squared Error (RMSE) on test data: {:.3f}\".format(rmse))\n",
    "#verideki featurelar vektörize edildi, data ½70 train ve %30 test olmak üzere ayrıldı. hedef değişken median_house_value dir\n",
    "#lineer regression modeli ile eğitildi, rmse (ortalama karesel hata) ölçüldü.\n"
   ]
  },
  {
   "cell_type": "code",
   "execution_count": 31,
   "id": "2ef23f48",
   "metadata": {},
   "outputs": [
    {
     "name": "stdout",
     "output_type": "stream",
     "text": [
      "Coefficients:  [0.26561543539969423,0.2703469488889847,0.002897550081074118,0.00022142214422635147,0.00010447337061745348,-0.0016731673240378277,-0.05025508409065163,1.000000552978515,0.00012292594316298865,0.027339082974535196,0.13148318839533113,-0.324980079431043,0.15423649264321665,0.21366372248886478,0.23745371368106372]\n",
      "Intercept: 22.138\n"
     ]
    }
   ],
   "source": [
    "print(\"Coefficients: \", model.coefficients)\n",
    "print(\"Intercept: {:.3f}\".format(model.intercept))\n",
    "#modelin kat sayıları gözlemlendi. \n",
    "#modelin y ekseninde kestiği nokta hesaplandı."
   ]
  },
  {
   "cell_type": "code",
   "execution_count": null,
   "id": "d3409bab",
   "metadata": {},
   "outputs": [],
   "source": []
  },
  {
   "cell_type": "code",
   "execution_count": null,
   "id": "48568801",
   "metadata": {},
   "outputs": [],
   "source": []
  }
 ],
 "metadata": {
  "kernelspec": {
   "display_name": "Python 3 (ipykernel)",
   "language": "python",
   "name": "python3"
  },
  "language_info": {
   "codemirror_mode": {
    "name": "ipython",
    "version": 3
   },
   "file_extension": ".py",
   "mimetype": "text/x-python",
   "name": "python",
   "nbconvert_exporter": "python",
   "pygments_lexer": "ipython3",
   "version": "3.9.12"
  }
 },
 "nbformat": 4,
 "nbformat_minor": 5
}
